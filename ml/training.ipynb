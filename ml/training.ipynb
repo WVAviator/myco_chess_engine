{
 "cells": [
  {
   "cell_type": "code",
   "execution_count": 1,
   "metadata": {
    "ExecuteTime": {
     "end_time": "2024-12-20T03:42:17.034291Z",
     "start_time": "2024-12-20T03:42:15.083423Z"
    }
   },
   "outputs": [],
   "source": [
    "import numpy as np\n",
    "import pandas as pd\n",
    "import torch\n",
    "import torch.nn as nn\n",
    "import torch.optim as optim\n",
    "from torch.utils.data import DataLoader, Dataset"
   ]
  },
  {
   "cell_type": "markdown",
   "metadata": {},
   "source": [
    "## Transforming FEN Strings\n",
    "\n",
    "The FEN string is converted to a sparse array, of size 864. Each square has 13 values, each either 0 or 1, and each determining whether a piece is located on that square. Sparse arrays are good for machine learning."
   ]
  },
  {
   "cell_type": "code",
   "execution_count": 4,
   "metadata": {},
   "outputs": [],
   "source": [
    "def fen_to_sparse_array(fen):\n",
    "    \"\"\"\n",
    "    Converts a FEN string to a 12x64 sparse array.\n",
    "    \n",
    "    :param fen: FEN string representing a chess position\n",
    "    :return: numpy array of shape (12, 64)\n",
    "    \"\"\"\n",
    "    \n",
    "    piece_to_index = {\n",
    "        'P': 0, 'N': 1, 'B': 2, 'R': 3, 'Q': 4, 'K': 5,  # White pieces\n",
    "        'p': 6, 'n': 7, 'b': 8, 'r': 9, 'q': 10, 'k': 11  # Black pieces\n",
    "    }\n",
    "    \n",
    "    board_fen, side_to_move, castling, en_passant, _, _ = fen.split(\" \")\n",
    "    output_array = np.zeros((13, 64), dtype=int)\n",
    "    \n",
    "    squares = board_fen.split('/')\n",
    "    square_index = 0\n",
    "    \n",
    "    for rank in squares:\n",
    "        for char in rank:\n",
    "            if char.isdigit():  # Empty squares\n",
    "                square_index += int(char)\n",
    "            elif char in piece_to_index:  # Pieces\n",
    "                piece_plane = piece_to_index[char]\n",
    "                output_array[piece_plane, square_index] = 1\n",
    "                square_index += 1\n",
    "            else:\n",
    "                raise ValueError(f\"Invalid character in FEN: {char}\")\n",
    "    \n",
    "    en_passant_array = np.zeros(64, dtype=int)\n",
    "    if en_passant != '-':\n",
    "        file = ord(en_passant[0]) - ord('a')  # Convert file to 0-7\n",
    "        rank = int(en_passant[1]) - 1  # Convert rank to 0-7\n",
    "        en_passant_index = rank * 8 + file\n",
    "        en_passant_array[en_passant_index] = 1    \n",
    "        \n",
    "        # Flatten the board representation\n",
    "    board_flat = output_array.flatten()  # Shape (832,)\n",
    "    \n",
    "    # Process side to move (1 scalar)\n",
    "    side_to_move_feature = np.array([1 if side_to_move == 'w' else 0], dtype=int)\n",
    "    \n",
    "    # Process castling rights (4 scalars)\n",
    "    castling_array = np.array([\n",
    "        int('K' in castling),  # White kingside\n",
    "        int('Q' in castling),  # White queenside\n",
    "        int('k' in castling),  # Black kingside\n",
    "        int('q' in castling)   # Black queenside\n",
    "    ], dtype=int)\n",
    "    \n",
    "    # Concatenate all features into a single vector\n",
    "    output_array = np.concatenate([board_flat, side_to_move_feature, castling_array, en_passant_array])\n",
    "    \n",
    "    return output_array"
   ]
  },
  {
   "cell_type": "markdown",
   "metadata": {},
   "source": [
    "## Reading CSV Data\n",
    "\n",
    "The data was downloaded from Kaggle and consists of FEN strings mapped to Stockfish 11 evaluations to depth 22. This is a good starting point for training a ML model."
   ]
  },
  {
   "cell_type": "code",
   "execution_count": 5,
   "metadata": {},
   "outputs": [],
   "source": [
    "def process_csv_to_training_data(csv_path):\n",
    "    \"\"\"\n",
    "    Reads a CSV file with FEN and evaluation columns and processes it into training data.\n",
    "    \n",
    "    :param csv_path: Path to the CSV file\n",
    "    :return: A tuple of (X, y) where:\n",
    "             - X is a numpy array of input features for each FEN\n",
    "             - y is a numpy array of evaluations\n",
    "    \"\"\"\n",
    "    df = pd.read_csv(csv_path)\n",
    "    \n",
    "    inputs = []\n",
    "    evaluations = []\n",
    "    \n",
    "    for index, row in df.iterrows():\n",
    "        fen = row['FEN']\n",
    "        evaluation = row['Evaluation']\n",
    "        \n",
    "        try:\n",
    "            ml_input = fen_to_sparse_array(fen)\n",
    "            inputs.append(ml_input)\n",
    "            evaluations.append(evaluation)\n",
    "        except ValueError as e:\n",
    "            print(f\"Error processing FEN at index {index}: {fen} - {e}\")\n",
    "    \n",
    "    X = np.array(inputs, dtype=float)\n",
    "    y = np.array(evaluations, dtype=float)\n",
    "    \n",
    "    return X, y"
   ]
  },
  {
   "cell_type": "markdown",
   "metadata": {},
   "source": []
  },
  {
   "cell_type": "code",
   "execution_count": 6,
   "metadata": {},
   "outputs": [],
   "source": [
    "class FenDataset(Dataset):\n",
    "    def __init__(self, features, labels):\n",
    "        self.features = torch.tensor(features, dtype=torch.float32)\n",
    "        self.labels = torch.tensor(labels, dtype=torch.float32)\n",
    "\n",
    "    def __len__(self):\n",
    "        return len(self.labels)\n",
    "\n",
    "    def __getitem__(self, idx):\n",
    "        return self.features[idx], self.labels[idx]\n",
    "\n",
    "class ChessEvaluationModel(nn.Module):\n",
    "    def __init__(self, input_size):\n",
    "        super(ChessEvaluationModel, self).__init__()\n",
    "        self.fc1 = nn.Linear(input_size, 128)  # Input layer\n",
    "        self.relu = nn.ReLU()\n",
    "        self.fc2 = nn.Linear(128, 64)         # Hidden layer\n",
    "        self.fc3 = nn.Linear(64, 1)          # Output layer (evaluation)\n",
    "\n",
    "    def forward(self, x):\n",
    "        x = self.relu(self.fc1(x))\n",
    "        x = self.relu(self.fc2(x))\n",
    "        x = self.fc3(x)\n",
    "        return x"
   ]
  },
  {
   "cell_type": "markdown",
   "metadata": {},
   "source": []
  },
  {
   "cell_type": "code",
   "execution_count": 8,
   "metadata": {},
   "outputs": [
    {
     "ename": "",
     "evalue": "",
     "output_type": "error",
     "traceback": [
      "\u001b[1;31mThe Kernel crashed while executing code in the current cell or a previous cell. \n",
      "\u001b[1;31mPlease review the code in the cell(s) to identify a possible cause of the failure. \n",
      "\u001b[1;31mClick <a href='https://aka.ms/vscodeJupyterKernelCrash'>here</a> for more info. \n",
      "\u001b[1;31mView Jupyter <a href='command:jupyter.viewOutput'>log</a> for further details."
     ]
    }
   ],
   "source": [
    "X, y = process_csv_to_training_data(\"chessData.csv\")\n",
    "\n",
    "dataset = FenDataset(X, y)\n",
    "dataloader = DataLoader(dataset, batch_size=32, shuffle=True)\n",
    "\n",
    "input_size = X.shape[1]\n",
    "model = ChessEvaluationModel(input_size)\n",
    "criterion = nn.MSELoss()\n",
    "optimizer = optim.Adam(model.parameters(), lr=0.001)\n",
    "\n",
    "num_epochs = 10\n",
    "for epoch in range(num_epochs):\n",
    "    model.train()\n",
    "    epoch_loss = 0.0\n",
    "    for batch_features, batch_labels in dataloader:\n",
    "        optimizer.zero_grad()\n",
    "        predictions = model(batch_features)\n",
    "        loss = criterion(predictions.squeeze(), batch_labels)\n",
    "        loss.backward()\n",
    "        optimizer.step()\n",
    "        epoch_loss += loss.item()\n",
    "\n",
    "    print(f\"Epoch {epoch+1}/{num_epochs}, Loss: {epoch_loss:.4f}\")\n",
    "\n",
    "torch.save(model.state_dict(), \"chess_eval_model.pt\")\n",
    "print(\"Model saved as chess_eval_model.pt\")"
   ]
  }
 ],
 "metadata": {
  "kernelspec": {
   "display_name": "Python 3",
   "language": "python",
   "name": "python3"
  },
  "language_info": {
   "codemirror_mode": {
    "name": "ipython",
    "version": 3
   },
   "file_extension": ".py",
   "mimetype": "text/x-python",
   "name": "python",
   "nbconvert_exporter": "python",
   "pygments_lexer": "ipython3",
   "version": "3.11.3"
  }
 },
 "nbformat": 4,
 "nbformat_minor": 2
}
